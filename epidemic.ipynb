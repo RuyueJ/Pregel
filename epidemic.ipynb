{
 "cells": [
  {
   "cell_type": "markdown",
   "metadata": {},
   "source": [
    "Epidemic models\n",
    "---\n",
    "\n",
    "We have mentioned that epidemic models are one useful real-world application of social network analytics. Here's a simple example of epidemic modelling.\n",
    "\n",
    "It is similar to the information-flow model. Each node has a state, which is\n",
    "0 for normal nodes, or >0 if infected, with the integer value giving the\n",
    "time since infection, or -1 for dead nodes. A node dies after an\n",
    "incubation period $t_i$. An infected node, while alive, has a probability $p$ of infecting each of its neighbours, at each time-step. We model this as an outgoing message. \n"
   ]
  },
  {
   "cell_type": "code",
   "execution_count": 13,
   "metadata": {
    "collapsed": true
   },
   "outputs": [],
   "source": [
    "from pregel import Vertex, Pregel\n",
    "import random\n",
    "import networkx as nx\n",
    "import numpy as np\n",
    "import matplotlib.pyplot as plt\n",
    "%matplotlib inline"
   ]
  },
  {
   "cell_type": "code",
   "execution_count": 42,
   "metadata": {
    "collapsed": false
   },
   "outputs": [],
   "source": [
    "# try other values of n and m\n",
    "n = 1000 # number of nodes\n",
    "m = 20 # number of edges per node\n",
    "p = 0.1 # probability of acquiring infection from a single neighbour\n",
    "i = 1 # number of nodes initially infected\n",
    "ti = 1 # incubation time: t time-steps after infection, the individual dies\n",
    "nsteps = 100 # how many time-steps to run\n",
    "\n",
    "def epidemic_main():\n",
    "    vertices = [EpidemicVertex(j, [], [], [])\n",
    "                for j in range(n)]\n",
    "    create_edges(vertices)\n",
    "    return epidemic_pregel(vertices)\n",
    "\n",
    "def create_edges(vertices):\n",
    "    \"\"\"Generates some randomly chosen in- and out-going edges from each\n",
    "    vertex in vertices with random weights.\n",
    "    \"\"\"\n",
    "    for v in vertices:\n",
    "        v.out_vertices = random.sample(vertices, m)\n",
    "\n",
    "def epidemic_stats(vertices):\n",
    "    superstep = vertices[0].superstep\n",
    "    n = len(vertices)\n",
    "    palive = sum(v.value >= 0 for v in vertices) / float(n)\n",
    "    pinfected = sum(v.value > 0 for v in vertices) / float(n)\n",
    "    return superstep, palive, pinfected\n",
    "\n",
    "def epidemic_pregel(vertices):\n",
    "    \"\"\"Simulates an epidemic using Pregel.\"\"\"\n",
    "    p = Pregel(vertices,stats_fn=epidemic_stats)\n",
    "    p.run()\n",
    "    return p.data\n",
    "\n",
    "class EpidemicVertex(Vertex):\n",
    "    def update(self):\n",
    "        if self.superstep == 0:\n",
    "            # initialise\n",
    "            if self.id == 0:\n",
    "                # \"patient zero\"\n",
    "                self.value = 1\n",
    "            else:\n",
    "                # healthy\n",
    "                self.value = 0\n",
    "\n",
    "        elif self.superstep < nsteps:\n",
    "            if self.value == -1:\n",
    "                # stop stop he's already dead\n",
    "                self.active = False\n",
    "\n",
    "            elif self.value > 0:\n",
    "                # we are infected. no need to read incoming messages\n",
    "                if self.value <= ti:\n",
    "                    # stay infected\n",
    "                    self.value += 1\n",
    "                    # emit infection\n",
    "                    self.outgoing_messages = [(v,1,1) for v in self.out_vertices]\n",
    "\n",
    "                else:\n",
    "                    # die\n",
    "                    self.value = -1\n",
    "                    self.active = False\n",
    "\n",
    "            else:\n",
    "                # we are not infected, so check incoming\n",
    "                for v, w, msg in self.incoming_messages:\n",
    "                    # every incoming message has a probability p of infecting this vertex\n",
    "                    if random.random() < p:\n",
    "                        self.value = 1\n",
    "\n",
    "        else:\n",
    "            self.active = False"
   ]
  },
  {
   "cell_type": "code",
   "execution_count": 40,
   "metadata": {
    "collapsed": true
   },
   "outputs": [],
   "source": [
    "def plot_v_time(ds, ylabel=\"\"):\n",
    "    for d in ds:\n",
    "        d = np.array(d)\n",
    "        plt.plot(d[:, 0], d[:, 1])\n",
    "    plt.xlabel(\"Time\")\n",
    "    plt.ylabel(ylabel)"
   ]
  },
  {
   "cell_type": "code",
   "execution_count": 41,
   "metadata": {
    "collapsed": false
   },
   "outputs": [
    {
     "data": {
      "image/png": "[encoded data removed]",
      "text/plain": [
       "<matplotlib.figure.Figure at 0x10cf3aac8>"
      ]
     },
     "metadata": {},
     "output_type": "display_data"
    }
   ],
   "source": [
    "ds = []\n",
    "for i in range(10):\n",
    "    ds.append(epidemic_main())\n",
    "plot_v_time(ds, \"pAlive\")"
   ]
  },
  {
   "cell_type": "markdown",
   "metadata": {},
   "source": [
    "Exercises\n",
    "---\n",
    "\n",
    "1. For different values of $p$, $m$, $n$, run several times and observe the epidemic effect. Which values give a true epidemic (nearly all nodes die off), and which give a small local die-off?\n",
    "2. Relate these values to the basic reproductive number $R_0$ (see notes and calculation below).\n",
    "3. Plug in a NetworkX random graph model instead of the model used above. Try using different parameters in it. How does $R_0$ change, and how does the epidemic behaviour change?\n",
    "4. Experiment with $t_i$. So far it has been set to $t_i=1$. The $R_0$ calculation would have to be different if a node has multiple \"chances\" to infect its neighbours.\n",
    "5. Implement another algorithm from the Pregel paper: semi-clustering (difficult)."
   ]
  },
  {
   "cell_type": "code",
   "execution_count": 43,
   "metadata": {
    "collapsed": false
   },
   "outputs": [],
   "source": [
    "def R0(p, seq):\n",
    "    # seq is a degree sequence\n",
    "    n = len(seq)\n",
    "    mean_d = 0.0\n",
    "    mean_d_sq = 0.0\n",
    "    for d in seq:\n",
    "        mean_d += d\n",
    "        mean_d_sq += d**2\n",
    "    mean_d /= float(n)\n",
    "    mean_d_sq /= float(n)\n",
    "    return p * (mean_d_sq - mean_d) / mean_d"
   ]
  }
 ],
 "metadata": {
  "kernelspec": {
   "display_name": "Python 3",
   "language": "python",
   "name": "python3"
  },
  "language_info": {
   "codemirror_mode": {
    "name": "ipython",
    "version": 3
   },
   "file_extension": ".py",
   "mimetype": "text/x-python",
   "name": "python",
   "nbconvert_exporter": "python",
   "pygments_lexer": "ipython3",
   "version": "3.5.1"
  }
 },
 "nbformat": 4,
 "nbformat_minor": 0
}
