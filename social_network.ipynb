{
 "cells": [
  {
   "cell_type": "markdown",
   "metadata": {},
   "source": [
    "Network effects\n",
    "---\n",
    "\n",
    "\"Network effects\" is a generic name given to the effect that one user of a product has on the value of the product as perceived by others. If none of my friends are using Myspace anymore, then its value drops in my eyes, even though the product itself hasn't changed.\n",
    "\n",
    "We've seen a long succession of social networks rise and fall -- Bebo, Myspace, Facebook, Orkut, Twitter. They don't fade gradually -- instead, there is a kind of mass exodus, as people realise that all their friends are leaving. But there may be pockets of users who are densely connected to each other and all stay together. Because they are densely connected to each other (perhaps in a clique or near-clique), and less densely connected to other users, they don't perceive a huge drop in the product's value, and so they may stay a long time.\n",
    "\n",
    "It's interesting to use simulation methods, like the information flow model above, to study these effects in different types of graphs. Let's try to create a model.\n",
    "\n",
    "\n",
    "\n",
    "\n",
    "Social network join/leave model\n",
    "---\n",
    "\n",
    "Let's suppose there is one dominant network, FriendFace (F), and a\n",
    "startup one, MyMates (M). Every day, all users may post some messages to \n",
    "some or all of their friends. Suppose cross-posting is enabled, so that anyone\n",
    "can post to their friends, regardless of which network they're on. But the source\n",
    "of the message is visible to the receiver, so I always know whether my friends are posting\n",
    "from F or from M.\n",
    "\n",
    "Let's suppose everyone is currently using F, and M starts up by \n",
    "convincing a small number $i$ of users to switch over.\n",
    "From then on, users may switch from F to M probabilistically: if they\n",
    "perceive a majority of their friends using M, then they may switch to posting from there.\n",
    "Let's simplify by assuming that users never switch back.\n",
    "\n",
    "In what scenarios will M take over, and in what scenarios will M fail?\n",
    "It will depend on the graph connections, edge density, and the relationship between\n",
    "the number of users observed and the probability of switching."
   ]
  },
  {
   "cell_type": "code",
   "execution_count": 3,
   "metadata": {
    "collapsed": true
   },
   "outputs": [],
   "source": [
    "from pregel import Vertex, Pregel\n",
    "import random\n",
    "import networkx as nx\n",
    "import numpy as np\n",
    "import matplotlib.pyplot as plt\n",
    "%matplotlib inline"
   ]
  },
  {
   "cell_type": "markdown",
   "metadata": {},
   "source": [
    "We set up the usual items we need for Pregel: a stats function and a Vertex subclass. The Vertex subclass encapsulates all the behaviour of the individual vertices."
   ]
  },
  {
   "cell_type": "code",
   "execution_count": 88,
   "metadata": {
    "collapsed": false
   },
   "outputs": [],
   "source": [
    "def social_stats(vertices):\n",
    "    # return a tuple: (superstep, proportion on F, proportion on M)\n",
    "    superstep = vertices[0].superstep\n",
    "    n = len(vertices)\n",
    "    pF = sum(v.value == \"F\" for v in vertices) / float(n)\n",
    "    pM = sum(v.value == \"M\" for v in vertices) / float(n)\n",
    "    return superstep, pF, pM\n",
    "\n",
    "class SocialVertex(Vertex):\n",
    "    def update(self):\n",
    "        if self.superstep < nsteps:\n",
    "            \n",
    "            # First, check whether to switch\n",
    "            if self.value == \"M\":\n",
    "                # we have already switched\n",
    "                pass\n",
    "            else:\n",
    "                \n",
    "                # let's see what our friends are doing\n",
    "                f = 0\n",
    "                m = 0\n",
    "                for v, w, msg in self.incoming_messages:\n",
    "                    if msg == \"F\":\n",
    "                        f += 1\n",
    "                    elif msg == \"M\":\n",
    "                        m += 1\n",
    "                    else:\n",
    "                        raise ValueError\n",
    "                if switch(f, m):\n",
    "                    self.value = \"M\"\n",
    "                    \n",
    "            # Next, send out messages to some of our friends\n",
    "            self.outgoing_messages = [(v,1,self.value) for v in self.out_vertices\n",
    "                                     if random.random() < a]\n",
    "\n",
    "\n",
    "        else:\n",
    "            self.active = False"
   ]
  },
  {
   "cell_type": "markdown",
   "metadata": {},
   "source": [
    "Our main function is going to accept a NetworkX graph, convert it to Pregel's format, and run the simulation."
   ]
  },
  {
   "cell_type": "code",
   "execution_count": 91,
   "metadata": {
    "collapsed": true
   },
   "outputs": [],
   "source": [
    "def social_main(G, i):\n",
    "    # G is a NetworkX graph\n",
    "    # i is the number of nodes which should be randomly assigned to M at the start\n",
    "    vertices = [SocialVertex(j, \"F\", [], [])\n",
    "                for j in range(G.order())]\n",
    "    initial_F = random.sample(G.nodes(), i)\n",
    "\n",
    "    for i, v in zip(G.nodes(), vertices):\n",
    "        v.out_vertices = [vertices[j] for j in G.neighbors(i)]\n",
    "        if i in initial_F:\n",
    "            v.value = \"M\"\n",
    "            \n",
    "    p = Pregel(vertices,stats_fn=social_stats)\n",
    "    p.run()\n",
    "    return p.data"
   ]
  },
  {
   "cell_type": "markdown",
   "metadata": {},
   "source": [
    "In this simulation, we need a probabilistic function to say whether to switch -- given a current observation of others."
   ]
  },
  {
   "cell_type": "code",
   "execution_count": 95,
   "metadata": {
    "collapsed": true
   },
   "outputs": [],
   "source": [
    "def switch(f, m):\n",
    "    # f and m are the *numbers* of our friends we \n",
    "    # have perceived using F and M respectively in the current time-step.\n",
    "    # return True if we switch from F to M, False otherwise.\n",
    "    \n",
    "    # in this implementation, we check that m is larger than f.\n",
    "    # if so, we switch with a certain probability\n",
    "    if m > f:\n",
    "        if random.random() < sp:\n",
    "            return True\n",
    "    return False"
   ]
  },
  {
   "cell_type": "markdown",
   "metadata": {},
   "source": [
    "All the interesting details go here. The following parameters affect the behaviour of each vertex, and affect the graph connectivity too. We'll print out two interesting properties of the graph, which strongly affect the behaviour in a simulation like this: the edge density, and the clustering."
   ]
  },
  {
   "cell_type": "code",
   "execution_count": 109,
   "metadata": {
    "collapsed": false
   },
   "outputs": [
    {
     "name": "stdout",
     "output_type": "stream",
     "text": [
      "0.004004004004004004\n",
      "0.19647142857142808\n"
     ]
    },
    {
     "data": {
      "text/plain": [
       "[(0, 0.99, 0.01),\n",
       " (1, 0.988, 0.012),\n",
       " (2, 0.985, 0.015),\n",
       " (3, 0.977, 0.023),\n",
       " (4, 0.971, 0.029),\n",
       " (5, 0.966, 0.034),\n",
       " (6, 0.957, 0.043),\n",
       " (7, 0.948, 0.052),\n",
       " (8, 0.939, 0.061),\n",
       " (9, 0.933, 0.067),\n",
       " (10, 0.927, 0.073),\n",
       " (11, 0.92, 0.08),\n",
       " (12, 0.912, 0.088),\n",
       " (13, 0.902, 0.098),\n",
       " (14, 0.89, 0.11),\n",
       " (15, 0.88, 0.12),\n",
       " (16, 0.866, 0.134),\n",
       " (17, 0.849, 0.151),\n",
       " (18, 0.821, 0.179),\n",
       " (19, 0.8, 0.2),\n",
       " (20, 0.775, 0.225),\n",
       " (21, 0.745, 0.255),\n",
       " (22, 0.715, 0.285),\n",
       " (23, 0.684, 0.316),\n",
       " (24, 0.652, 0.348),\n",
       " (25, 0.615, 0.385),\n",
       " (26, 0.573, 0.427),\n",
       " (27, 0.527, 0.473),\n",
       " (28, 0.471, 0.529),\n",
       " (29, 0.423, 0.577),\n",
       " (30, 0.423, 0.577)]"
      ]
     },
     "execution_count": 109,
     "metadata": {},
     "output_type": "execute_result"
    }
   ],
   "source": [
    "n = 1000 # number of nodes\n",
    "m = 5 # number of edges per node\n",
    "rp = 0.3 # rewiring probability in Watts-Strogatz\n",
    "\n",
    "i = 10 # number of nodes initially on M\n",
    "a = 0.4 # activity: 1.0 means we hit all our friends with messages every day\n",
    "sp = 0.9 # switch probability (when we perceive a majority have switched)\n",
    "nsteps = 30 # how many time-steps to run\n",
    "\n",
    "G = nx.watts_strogatz_graph(n, m, rp)\n",
    "\n",
    "print(nx.density(G))\n",
    "print(nx.average_clustering(G))\n",
    "social_main(G, i)"
   ]
  },
  {
   "cell_type": "markdown",
   "metadata": {},
   "source": [
    "Exercises\n",
    "---\n",
    "\n",
    "1. Try changing `m`. What is the relationship between `m`, density, and success or failure of M?\n",
    "2. Try changing `rp`. What is the relationship between `rp`, clustering, and the success or failure of M?\n",
    "3. Try choosing the initial $i$ nodes of M from some related nodes, instead of from random nodes. Does it make a difference?"
   ]
  },
  {
   "cell_type": "code",
   "execution_count": null,
   "metadata": {
    "collapsed": true
   },
   "outputs": [],
   "source": []
  }
 ],
 "metadata": {
  "kernelspec": {
   "display_name": "Python 3",
   "language": "python",
   "name": "python3"
  },
  "language_info": {
   "codemirror_mode": {
    "name": "ipython",
    "version": 3
   },
   "file_extension": ".py",
   "mimetype": "text/x-python",
   "name": "python",
   "nbconvert_exporter": "python",
   "pygments_lexer": "ipython3",
   "version": "3.5.1"
  }
 },
 "nbformat": 4,
 "nbformat_minor": 0
}
